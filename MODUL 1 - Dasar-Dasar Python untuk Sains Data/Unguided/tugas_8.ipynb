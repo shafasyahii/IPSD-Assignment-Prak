{
  "nbformat": 4,
  "nbformat_minor": 0,
  "metadata": {
    "colab": {
      "provenance": []
    },
    "kernelspec": {
      "name": "python3",
      "display_name": "Python 3"
    },
    "language_info": {
      "name": "python"
    }
  },
  "cells": [
    {
      "cell_type": "markdown",
      "source": [
        "### Soal 8: Kombinasi String dan Manipulasi List\n",
        "**Soal**: Buat sebuah program yang menerima string dari pengguna dan mengonversi string tersebut menjadi sebuah list berisi kata-kata terbalik. Misalnya:\n",
        "```\n",
        "Input: \"Saya suka Python\"\n",
        "Output: [\"ayaS\", \"akus\", \"nohtyP\"]\n",
        "```\n",
        "\n",
        "**Tujuan**: Menguji mahasiswa dalam manipulasi string dan list, serta penerapan logika kreatif.\n",
        "\n",
        "---\n"
      ],
      "metadata": {
        "id": "7bKYdepF8OsS"
      }
    },
    {
      "cell_type": "code",
      "source": [
        "def balik_kata(kalimat):\n",
        "\n",
        "  ## Fungsi untuk membalikkan kata-kata dalam sebuah kalimat.\n",
        "\n",
        "  # Bagi kalimat menjadi list kata-kata\n",
        "  kata_kata = kalimat.split()\n",
        "\n",
        "  # Balik setiap kata dan masukkan ke dalam list baru\n",
        "  kata_kata_terbalik = [kata[::-1] for kata in kata_kata]\n",
        "\n",
        "  return kata_kata_terbalik\n",
        "\n",
        "# Input dari pengguna\n",
        "kalimat = input(\"Masukkan kalimat: \")\n",
        "\n",
        "# Panggil fungsi dan cetak hasilnya\n",
        "hasil = balik_kata(kalimat)\n",
        "print(hasil)"
      ],
      "metadata": {
        "colab": {
          "base_uri": "https://localhost:8080/"
        },
        "id": "r1s0v6xr8Ree",
        "outputId": "daab5155-6772-4ef1-995a-288e56352ed5"
      },
      "execution_count": 1,
      "outputs": [
        {
          "output_type": "stream",
          "name": "stdout",
          "text": [
            "Masukkan kalimat: saya suka donat\n",
            "['ayas', 'akus', 'tanod']\n"
          ]
        }
      ]
    },
    {
      "cell_type": "code",
      "source": [],
      "metadata": {
        "id": "r2VVG7rg8002"
      },
      "execution_count": null,
      "outputs": []
    }
  ]
}