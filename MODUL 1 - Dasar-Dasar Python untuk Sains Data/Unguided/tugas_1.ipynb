{
  "nbformat": 4,
  "nbformat_minor": 0,
  "metadata": {
    "colab": {
      "provenance": []
    },
    "kernelspec": {
      "name": "python3",
      "display_name": "Python 3"
    },
    "language_info": {
      "name": "python"
    }
  },
  "cells": [
    {
      "cell_type": "markdown",
      "source": [
        "### Soal 1: Memecahkan Masalah Unik dengan Loop dan If-Else\n",
        "**Soal**: Buatlah program yang dapat menghasilkan pola berbentuk angka seperti di bawah ini, dengan syarat angka yang ditampilkan adalah hasil dari penjumlahan bilangan prima sebelumnya:\n",
        "```\n",
        "1\n",
        "2 3\n",
        "5 7 11\n",
        "13 17 19 23\n",
        "...\n",
        "```\n",
        "Jumlah angka pada setiap baris bertambah 1, dan bilangan yang ditampilkan adalah bilangan prima.\n",
        "\n",
        "**Tujuan**: Menguji pemahaman tentang loop, bilangan prima, dan bagaimana pola dihasilkan.\n",
        "\n",
        "---\n"
      ],
      "metadata": {
        "id": "3Rfn4wY_4T5Z"
      }
    },
    {
      "cell_type": "code",
      "source": [
        "def is_prime(n):\n",
        "    \"\"\"Fungsi untuk mengecek apakah n adalah bilangan prima.\"\"\"\n",
        "    if n <= 1:\n",
        "        return False\n",
        "    for i in range(2, int(n**0.5) + 1):\n",
        "        if n % i == 0:\n",
        "            return False\n",
        "    return True\n",
        "\n",
        "def generate_primes(count):\n",
        "    \"\"\"Fungsi untuk menghasilkan daftar bilangan prima sebanyak count.\"\"\"\n",
        "    primes = []\n",
        "    num = 2  # Bilangan pertama yang akan dicek\n",
        "    while len(primes) < count:\n",
        "        if is_prime(num):\n",
        "            primes.append(num)\n",
        "        num += 1\n",
        "    return primes\n",
        "\n",
        "def print_prime_pattern(rows):\n",
        "    \"\"\"Fungsi untuk mencetak pola bilangan prima.\"\"\"\n",
        "    total_primes = (rows * (rows + 1)) // 2  # Jumlah total bilangan prima yang dibutuhkan\n",
        "    primes = generate_primes(total_primes)\n",
        "\n",
        "    index = 0\n",
        "    for i in range(1, rows + 1):\n",
        "        for j in range(i):\n",
        "            print(primes[index], end=' ')\n",
        "            index += 1\n",
        "        print()  # Pindah ke baris berikutnya\n",
        "\n",
        "# Meminta pengguna untuk memasukkan jumlah baris\n",
        "num_rows = int(input(\"Masukkan jumlah baris yang ingin dicetak: \"))\n",
        "print_prime_pattern(num_rows)"
      ],
      "metadata": {
        "colab": {
          "base_uri": "https://localhost:8080/"
        },
        "id": "NTfmmobP4e4B",
        "outputId": "28de1ca6-a79b-461f-9fe7-9459b00385d3"
      },
      "execution_count": 3,
      "outputs": [
        {
          "output_type": "stream",
          "name": "stdout",
          "text": [
            "Masukkan jumlah baris yang ingin dicetak: 5\n",
            "2 \n",
            "3 5 \n",
            "7 11 13 \n",
            "17 19 23 29 \n",
            "31 37 41 43 47 \n"
          ]
        }
      ]
    },
    {
      "cell_type": "code",
      "source": [],
      "metadata": {
        "id": "A6mKE84M40mp"
      },
      "execution_count": null,
      "outputs": []
    }
  ]
}