{
  "nbformat": 4,
  "nbformat_minor": 0,
  "metadata": {
    "colab": {
      "provenance": []
    },
    "kernelspec": {
      "name": "python3",
      "display_name": "Python 3"
    },
    "language_info": {
      "name": "python"
    }
  },
  "cells": [
    {
      "cell_type": "markdown",
      "source": [
        "### Soal 2: Membuat Fungsi dengan Syarat Spesifik\n",
        "**Soal**: Buatlah sebuah fungsi yang menerima dua input berupa list angka. Fungsi ini harus mengembalikan sebuah list baru yang berisi elemen dari dua list input yang memiliki indeks ganjil. List baru tersebut juga harus diurutkan secara menurun berdasarkan nilai elemen.\n",
        "\n",
        "**Tujuan**: Menguji mahasiswa dalam manipulasi list, penggunaan indeks, serta pemahaman tentang fungsi dan pengurutan.\n",
        "\n",
        "---\n",
        "\n",
        "\n"
      ],
      "metadata": {
        "id": "eMBZNYKp8zXY"
      }
    },
    {
      "cell_type": "code",
      "source": [
        "def merge_and_sort_odd_indices(list1, list2):\n",
        "    \"\"\"Fungsi untuk menggabungkan elemen dengan indeks ganjil dari dua list dan mengurutkannya secara menurun.\"\"\"\n",
        "\n",
        "    # Mengambil elemen dengan indeks ganjil dari kedua list\n",
        "    odd_index_elements = []\n",
        "\n",
        "    # Mengambil elemen dengan indeks ganjil dari list1\n",
        "    odd_index_elements.extend(list1[i] for i in range(1, len(list1), 2))\n",
        "\n",
        "    # Mengambil elemen dengan indeks ganjil dari list2\n",
        "    odd_index_elements.extend(list2[i] for i in range(1, len(list2), 2))\n",
        "\n",
        "    # Mengurutkan elemen secara menurun\n",
        "    odd_index_elements.sort(reverse=True)\n",
        "\n",
        "    return odd_index_elements\n",
        "\n",
        "# Contoh penggunaan fungsi\n",
        "list1 = [10, 20, 30, 40, 50]\n",
        "list2 = [5, 15, 25, 35, 45]\n",
        "\n",
        "result = merge_and_sort_odd_indices(list1, list2)\n",
        "print(result)"
      ],
      "metadata": {
        "colab": {
          "base_uri": "https://localhost:8080/"
        },
        "id": "K_q1HDUf83dm",
        "outputId": "4da22e5c-358f-4ad3-e184-8cc4ee4333e3"
      },
      "execution_count": 1,
      "outputs": [
        {
          "output_type": "stream",
          "name": "stdout",
          "text": [
            "[40, 35, 20, 15]\n"
          ]
        }
      ]
    },
    {
      "cell_type": "code",
      "source": [],
      "metadata": {
        "id": "bFpLlHGq9EhI"
      },
      "execution_count": null,
      "outputs": []
    }
  ]
}