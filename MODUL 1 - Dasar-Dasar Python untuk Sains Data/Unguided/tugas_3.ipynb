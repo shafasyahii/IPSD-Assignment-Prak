{
  "nbformat": 4,
  "nbformat_minor": 0,
  "metadata": {
    "colab": {
      "provenance": []
    },
    "kernelspec": {
      "name": "python3",
      "display_name": "Python 3"
    },
    "language_info": {
      "name": "python"
    }
  },
  "cells": [
    {
      "cell_type": "markdown",
      "source": [
        "### Soal 3: Exception Handling dalam Konteks Nyata\n",
        "**Soal**: Buat sebuah program untuk mensimulasikan transaksi ATM. Program harus:\n",
        "1. Meminta pengguna memasukkan PIN (dibatasi 3 kali percobaan).\n",
        "2. Setelah PIN benar, meminta jumlah penarikan.\n",
        "3. Jika saldo kurang dari jumlah yang ditarik, munculkan pesan kesalahan.\n",
        "4. Jika penarikan berhasil, tampilkan saldo akhir.\n",
        "\n",
        "**Tujuan**: Menguji penggunaan input, while loop, exception handling, dan logika untuk memproses skenario kehidupan nyata.\n",
        "\n",
        "---\n"
      ],
      "metadata": {
        "id": "erTTECkH9pIn"
      }
    },
    {
      "cell_type": "code",
      "source": [
        "class ATM:\n",
        "    def __init__(self):\n",
        "        self.saldo = 100000  # Saldo awal Rp100.000\n",
        "        self.pin = \"1234\"  # PIN awal (dapat diubah)\n",
        "        self.percobaan = 0  # Jumlah percobaan login\n",
        "\n",
        "    def login(self):\n",
        "        while self.percobaan < 3:\n",
        "            pin_user = input(\"Masukkan PIN Anda: \")\n",
        "            if pin_user == self.pin:\n",
        "                return True\n",
        "            else:\n",
        "                self.percobaan += 1\n",
        "                print(\"PIN salah. Anda memiliki\", 3 - self.percobaan, \"percobaan lagi.\")\n",
        "        print(\"Anda telah mencapai batas percobaan. Transaksi dibatalkan.\")\n",
        "        return False\n",
        "\n",
        "    def tarik_uang(self):\n",
        "        if self.login():\n",
        "            try:\n",
        "                jumlah_tarik = float(input(\"Masukkan jumlah uang yang ingin ditarik: \"))\n",
        "                if jumlah_tarik > self.saldo:\n",
        "                    print(\"Saldo Anda tidak cukup untuk melakukan penarikan.\")\n",
        "                else:\n",
        "                    self.saldo -= jumlah_tarik\n",
        "                    print(f\"Penarikan berhasil! Sisa saldo Anda: Rp{self.saldo}\")\n",
        "            except ValueError:\n",
        "                print(\"Input tidak valid. Silakan masukkan angka.\")\n",
        "\n",
        "    def tampilkan_menu(self):\n",
        "        while True:\n",
        "            print(\"\\n=== Menu ATM ===\")\n",
        "            print(\"1. Tarik Uang\")\n",
        "            print(\"2. Cek Saldo\")\n",
        "            print(\"3. Keluar\")\n",
        "            pilihan = input(\"Pilih opsi (1/2/3): \")\n",
        "\n",
        "            if pilihan == '1':\n",
        "                self.tarik_uang()\n",
        "            elif pilihan == '2':\n",
        "                print(f\"Sisa saldo Anda: Rp{self.saldo}\")\n",
        "            elif pilihan == '3':\n",
        "                print(\"Terima kasih! Sampai jumpa.\")\n",
        "                break\n",
        "            else:\n",
        "                print(\"Pilihan tidak valid. Silakan coba lagi.\")\n",
        "\n",
        "# Membuat objek ATM\n",
        "atm = ATM()\n",
        "\n",
        "# Memulai program dengan menampilkan menu\n",
        "atm.tampilkan_menu()"
      ],
      "metadata": {
        "colab": {
          "base_uri": "https://localhost:8080/"
        },
        "id": "p1IlzFxk9q_s",
        "outputId": "ac911f46-a952-4db8-9167-2d5475807491"
      },
      "execution_count": 3,
      "outputs": [
        {
          "output_type": "stream",
          "name": "stdout",
          "text": [
            "\n",
            "=== Menu ATM ===\n",
            "1. Tarik Uang\n",
            "2. Cek Saldo\n",
            "3. Keluar\n",
            "Pilih opsi (1/2/3): 1\n",
            "Masukkan PIN Anda: 123\n",
            "PIN salah. Anda memiliki 2 percobaan lagi.\n",
            "Masukkan PIN Anda: 1234\n",
            "Masukkan jumlah uang yang ingin ditarik: 200000\n",
            "Saldo Anda tidak cukup untuk melakukan penarikan.\n",
            "\n",
            "=== Menu ATM ===\n",
            "1. Tarik Uang\n",
            "2. Cek Saldo\n",
            "3. Keluar\n",
            "Pilih opsi (1/2/3): 2\n",
            "Sisa saldo Anda: Rp100000\n",
            "\n",
            "=== Menu ATM ===\n",
            "1. Tarik Uang\n",
            "2. Cek Saldo\n",
            "3. Keluar\n",
            "Pilih opsi (1/2/3): 3\n",
            "Terima kasih! Sampai jumpa.\n"
          ]
        }
      ]
    },
    {
      "cell_type": "code",
      "source": [],
      "metadata": {
        "id": "h8y2XFZV99P8"
      },
      "execution_count": null,
      "outputs": []
    }
  ]
}