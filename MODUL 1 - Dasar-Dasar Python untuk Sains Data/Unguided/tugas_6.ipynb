{
  "nbformat": 4,
  "nbformat_minor": 0,
  "metadata": {
    "colab": {
      "provenance": []
    },
    "kernelspec": {
      "name": "python3",
      "display_name": "Python 3"
    },
    "language_info": {
      "name": "python"
    }
  },
  "cells": [
    {
      "cell_type": "markdown",
      "source": [
        "### Soal 6: Rekursi yang Tidak Biasa\n",
        "**Soal**: Buat fungsi rekursif yang menerima input bilangan bulat `n` dan menghasilkan urutan bilangan seperti berikut ini:\n",
        "```\n",
        "Input: n = 4\n",
        "Output: 1, 1, 2, 6, 24\n",
        "```\n",
        "Fungsi ini harus menggunakan konsep rekursi untuk menghitung faktorial setiap angka hingga `n`.\n",
        "\n",
        "**Tujuan**: Menguji pemahaman rekursi dengan penerapan unik dan sulit dipahami secara instan oleh AI.\n",
        "\n",
        "---\n"
      ],
      "metadata": {
        "id": "4ukSKHaoBJWA"
      }
    },
    {
      "cell_type": "code",
      "source": [
        "def faktorial_rekursif(n):\n",
        "\n",
        "  ## Fungsi rekursif untuk menghitung faktorial dari sebuah bilangan.\n",
        "\n",
        "  if n == 0 or n == 1:\n",
        "    return 1\n",
        "  else:\n",
        "    return n * faktorial_rekursif(n - 1)\n",
        "\n",
        "def urutan_faktorial(n):\n",
        "\n",
        "  ## Fungsi untuk menghasilkan urutan bilangan faktorial hingga n.\n",
        "\n",
        "  if n == 0:\n",
        "    return [1]\n",
        "  else:\n",
        "    sub_urutan = urutan_faktorial(n - 1)\n",
        "    sub_urutan.append(faktorial_rekursif(n))\n",
        "    return sub_urutan\n",
        "\n",
        "n = int(input(\"Masukkan bilangan bulat: \"))\n",
        "hasil = urutan_faktorial(n)\n",
        "print(\", \".join(map(str, hasil)))"
      ],
      "metadata": {
        "colab": {
          "base_uri": "https://localhost:8080/"
        },
        "id": "XqftWv2NC599",
        "outputId": "d5fd1b2a-965a-43fd-e0ed-571fbf1569e9"
      },
      "execution_count": 1,
      "outputs": [
        {
          "output_type": "stream",
          "name": "stdout",
          "text": [
            "Masukkan bilangan bulat: 4\n",
            "1, 1, 2, 6, 24\n"
          ]
        }
      ]
    },
    {
      "cell_type": "code",
      "source": [],
      "metadata": {
        "id": "7HMHOTrADQ1w"
      },
      "execution_count": null,
      "outputs": []
    }
  ]
}