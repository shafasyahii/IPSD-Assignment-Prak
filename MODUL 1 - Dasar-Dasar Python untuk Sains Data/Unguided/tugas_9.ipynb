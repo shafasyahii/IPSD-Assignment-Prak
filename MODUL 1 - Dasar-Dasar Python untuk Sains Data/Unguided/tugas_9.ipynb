{
  "nbformat": 4,
  "nbformat_minor": 0,
  "metadata": {
    "colab": {
      "provenance": []
    },
    "kernelspec": {
      "name": "python3",
      "display_name": "Python 3"
    },
    "language_info": {
      "name": "python"
    }
  },
  "cells": [
    {
      "cell_type": "markdown",
      "source": [
        "### Soal 9: Konsep Class dan Object-Oriented Programming\n",
        "**Soal**: Buat class bernama `Buku` yang memiliki atribut `judul`, `penulis`, dan `tahun_terbit`. Buat method dalam class untuk menampilkan informasi buku, serta method untuk menghitung usia buku berdasarkan tahun saat ini. Buatlah 3 objek dari class `Buku` dan tampilkan informasi serta usia masing-masing buku.\n",
        "\n",
        "**Tujuan**: Menguji pemahaman OOP, pembuatan class, penggunaan method, serta manipulasi atribut.\n",
        "\n",
        "---\n"
      ],
      "metadata": {
        "id": "cgRRR1Wc9U-C"
      }
    },
    {
      "cell_type": "code",
      "source": [
        "class Buku:\n",
        "    def __init__(self, judul, penulis, tahun_terbit):\n",
        "        \"\"\"Inisialisasi atribut buku.\"\"\"\n",
        "        self.judul = judul\n",
        "        self.penulis = penulis\n",
        "        self.tahun_terbit = tahun_terbit\n",
        "\n",
        "    def tampilkan_informasi(self):\n",
        "        \"\"\"Menampilkan informasi buku.\"\"\"\n",
        "        print(f\"Judul: {self.judul}\")\n",
        "        print(f\"Penulis: {self.penulis}\")\n",
        "        print(f\"Tahun Terbit: {self.tahun_terbit}\")\n",
        "\n",
        "    def hitung_usia_buku(self, tahun_sekarang):\n",
        "        \"\"\"Menghitung usia buku berdasarkan tahun saat ini.\"\"\"\n",
        "        return tahun_sekarang - self.tahun_terbit\n",
        "\n",
        "\n",
        "# Membuat objek dari class Buku\n",
        "buku1 = Buku(\"Hujan\", \"Tere Liye\", 2016)\n",
        "buku2 = Buku(\"Winter in Tokyo\", \"Ilana Tan\", 2008)\n",
        "buku3 = Buku(\"Laut Bercerita\", \"Leila Salikha Chudori\", 2017)\n",
        "\n",
        "# Mendapatkan tahun saat ini\n",
        "tahun_sekarang = 2024\n",
        "\n",
        "# Menampilkan informasi dan usia masing-masing buku\n",
        "for buku in [buku1, buku2, buku3]:\n",
        "    print(\"\\nInformasi Buku:\")\n",
        "    buku.tampilkan_informasi()\n",
        "    usia_buku = buku.hitung_usia_buku(tahun_sekarang)\n",
        "    print(f\"Usia Buku: {usia_buku} tahun\")"
      ],
      "metadata": {
        "colab": {
          "base_uri": "https://localhost:8080/"
        },
        "id": "J-ryPmo09Vfy",
        "outputId": "7249c994-528c-4125-e086-0dedb5809234"
      },
      "execution_count": 6,
      "outputs": [
        {
          "output_type": "stream",
          "name": "stdout",
          "text": [
            "\n",
            "Informasi Buku:\n",
            "Judul: Hujan\n",
            "Penulis: Tere Liye\n",
            "Tahun Terbit: 2016\n",
            "Usia Buku: 8 tahun\n",
            "\n",
            "Informasi Buku:\n",
            "Judul: Winter in Tokyo\n",
            "Penulis: Ilana Tan\n",
            "Tahun Terbit: 2008\n",
            "Usia Buku: 16 tahun\n",
            "\n",
            "Informasi Buku:\n",
            "Judul: Laut Bercerita\n",
            "Penulis: Leila Salikha Chudori\n",
            "Tahun Terbit: 2017\n",
            "Usia Buku: 7 tahun\n"
          ]
        }
      ]
    },
    {
      "cell_type": "code",
      "source": [],
      "metadata": {
        "id": "jwDAg-D--I2u"
      },
      "execution_count": null,
      "outputs": []
    }
  ]
}