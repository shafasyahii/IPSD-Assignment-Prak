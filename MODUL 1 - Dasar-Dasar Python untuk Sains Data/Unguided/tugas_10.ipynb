{
  "nbformat": 4,
  "nbformat_minor": 0,
  "metadata": {
    "colab": {
      "provenance": []
    },
    "kernelspec": {
      "name": "python3",
      "display_name": "Python 3"
    },
    "language_info": {
      "name": "python"
    }
  },
  "cells": [
    {
      "cell_type": "markdown",
      "source": [
        "### Soal 10: Algoritma dengan Persyaratan Logika Khusus\n",
        "**Soal**: Buatlah program yang mengimplementasikan algoritma pencarian biner, namun dengan modifikasi: algoritma harus bisa mencari nilai di list yang hanya berisi angka genap, dan jika nilai yang dicari adalah angka ganjil, program harus menampilkan pesan bahwa nilai tersebut tidak bisa ditemukan.\n",
        "\n",
        "**Tujuan**: Menguji pemahaman algoritma pencarian serta pengkondisian logika yang lebih kompleks.\n",
        "\n",
        "---\n"
      ],
      "metadata": {
        "id": "tTB7d9Ly_eb5"
      }
    },
    {
      "cell_type": "code",
      "source": [
        "def binary_search(arr, target):\n",
        "    ## Fungsi untuk melakukan pencarian biner.\n",
        "    left, right = 0, len(arr) - 1\n",
        "\n",
        "    while left <= right:\n",
        "        mid = (left + right) // 2\n",
        "\n",
        "        # Cek apakah target ada di tengah\n",
        "        if arr[mid] == target:\n",
        "            return mid  # Mengembalikan indeks jika ditemukan\n",
        "        elif arr[mid] < target:\n",
        "            left = mid + 1  # Mencari di bagian kanan\n",
        "        else:\n",
        "            right = mid - 1  # Mencari di bagian kiri\n",
        "\n",
        "    return -1  # Mengembalikan -1 jika tidak ditemukan\n",
        "\n",
        "# List hanya berisi angka genap\n",
        "even_numbers = [0, 2, 4, 6, 8, 10, 12, 14, 16, 18, 20]\n",
        "\n",
        "while True:\n",
        "    try:\n",
        "        target = int(input(\"Masukkan angka genap yang ingin dicari: \"))\n",
        "\n",
        "        # Memeriksa apakah target adalah angka genap\n",
        "        if target % 2 != 0:\n",
        "            print(\"Nilai yang dicari harus angka genap. Silakan coba lagi.\")\n",
        "            continue\n",
        "\n",
        "        # Melakukan pencarian biner\n",
        "        result_index = binary_search(even_numbers, target)\n",
        "\n",
        "        if result_index != -1:\n",
        "            print(f\"Angka {target} ditemukan di indeks {result_index}.\")\n",
        "            break  # Keluar dari loop jika angka ditemukan\n",
        "        else:\n",
        "            print(f\"Angka {target} tidak ditemukan dalam list. Silakan coba angka lain.\")\n",
        "    except ValueError:\n",
        "        print(\"Input tidak valid. Silakan masukkan angka bulat.\")"
      ],
      "metadata": {
        "colab": {
          "base_uri": "https://localhost:8080/"
        },
        "id": "5T2SxnUk_qKk",
        "outputId": "1385ecc6-a47e-4b60-9c72-26ac30e775fe"
      },
      "execution_count": 3,
      "outputs": [
        {
          "output_type": "stream",
          "name": "stdout",
          "text": [
            "Masukkan angka genap yang ingin dicari: 7\n",
            "Nilai yang dicari harus angka genap. Silakan coba lagi.\n",
            "Masukkan angka genap yang ingin dicari: 70\n",
            "Angka 70 tidak ditemukan dalam list. Silakan coba angka lain.\n",
            "Masukkan angka genap yang ingin dicari: 4\n",
            "Angka 4 ditemukan di indeks 2.\n"
          ]
        }
      ]
    },
    {
      "cell_type": "code",
      "source": [],
      "metadata": {
        "id": "Aj0SIF0qAPpp"
      },
      "execution_count": null,
      "outputs": []
    }
  ]
}