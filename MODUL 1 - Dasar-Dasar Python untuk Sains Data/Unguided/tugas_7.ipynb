{
  "nbformat": 4,
  "nbformat_minor": 0,
  "metadata": {
    "colab": {
      "provenance": []
    },
    "kernelspec": {
      "name": "python3",
      "display_name": "Python 3"
    },
    "language_info": {
      "name": "python"
    }
  },
  "cells": [
    {
      "cell_type": "markdown",
      "source": [
        "### Soal 7: Pemrograman dengan Algoritma Greedy\n",
        "**Soal**: Buatlah program untuk memecahkan masalah \"minimum coin change\". Diberikan jumlah uang dan daftar nilai koin yang tersedia (misalnya, 1, 5, 10, 25), tentukan kombinasi minimum koin yang diperlukan untuk mencapai jumlah uang tersebut. Namun, program Anda harus bisa menangani koin-koin yang nilai dan jumlahnya ditentukan pengguna.\n",
        "\n",
        "**Tujuan**: Menguji kemampuan mahasiswa dalam memahami dan mengimplementasikan algoritma greedy, serta pemrograman modular.\n",
        "\n",
        "---\n"
      ],
      "metadata": {
        "id": "QpJk99ZQEUfn"
      }
    },
    {
      "cell_type": "code",
      "source": [
        "def minimum_coin_change(amount, coins):\n",
        "    ## Fungsi untuk menghitung kombinasi minimum koin yang diperlukan untuk mencapai jumlah uang.\n",
        "    # Inisialisasi tabel untuk menyimpan jumlah koin minimum\n",
        "    dp = [float('inf')] * (amount + 1)\n",
        "    dp[0] = 0  # Tidak membutuhkan koin untuk jumlah 0\n",
        "\n",
        "    # Mengisi tabel dp\n",
        "    for coin in coins:\n",
        "        for x in range(coin, amount + 1):\n",
        "            dp[x] = min(dp[x], dp[x - coin] + 1)\n",
        "\n",
        "    # Memeriksa apakah ada solusi\n",
        "    if dp[amount] == float('inf'):\n",
        "        return None  # Tidak ada kombinasi koin yang bisa mencapai jumlah tersebut\n",
        "\n",
        "    # Menentukan kombinasi koin yang digunakan\n",
        "    result = []\n",
        "    while amount > 0:\n",
        "        for coin in coins:\n",
        "            if amount >= coin and dp[amount] == dp[amount - coin] + 1:\n",
        "                result.append(coin)\n",
        "                amount -= coin\n",
        "                break\n",
        "\n",
        "    return result\n",
        "\n",
        "# Meminta input dari pengguna\n",
        "try:\n",
        "    amount = int(input(\"Masukkan jumlah uang yang ingin dicapai: \"))\n",
        "    coins_input = input(\"Masukkan nilai koin yang tersedia (pisahkan dengan koma): \")\n",
        "\n",
        "    # Mengonversi input koin menjadi list integer\n",
        "    coins = list(map(int, coins_input.split(',')))\n",
        "\n",
        "    # Menghitung kombinasi minimum koin\n",
        "    result = minimum_coin_change(amount, coins)\n",
        "\n",
        "    if result is None:\n",
        "        print(\"Tidak ada kombinasi koin yang dapat mencapai jumlah tersebut.\")\n",
        "    else:\n",
        "        print(f\"Kombinasi minimum koin yang diperlukan: {result}\")\n",
        "        print(f\"Jumlah koin: {len(result)}\")\n",
        "except ValueError:\n",
        "    print(\"Input tidak valid. Silakan masukkan angka bulat untuk jumlah uang dan nilai koin.\")"
      ],
      "metadata": {
        "colab": {
          "base_uri": "https://localhost:8080/"
        },
        "id": "WCOZgT1hEb9i",
        "outputId": "da1a26d4-b5d7-437d-de89-c97bfe78cefe"
      },
      "execution_count": 1,
      "outputs": [
        {
          "output_type": "stream",
          "name": "stdout",
          "text": [
            "Masukkan jumlah uang yang ingin dicapai: 50\n",
            "Masukkan nilai koin yang tersedia (pisahkan dengan koma): 1,5,10\n",
            "Kombinasi minimum koin yang diperlukan: [10, 10, 10, 10, 10]\n",
            "Jumlah koin: 5\n"
          ]
        }
      ]
    },
    {
      "cell_type": "code",
      "source": [],
      "metadata": {
        "id": "kI_XmTvnEpqN"
      },
      "execution_count": null,
      "outputs": []
    }
  ]
}