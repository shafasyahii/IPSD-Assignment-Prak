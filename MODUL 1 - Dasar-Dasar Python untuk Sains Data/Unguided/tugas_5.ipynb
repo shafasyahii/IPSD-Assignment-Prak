{
  "nbformat": 4,
  "nbformat_minor": 0,
  "metadata": {
    "colab": {
      "provenance": []
    },
    "kernelspec": {
      "name": "python3",
      "display_name": "Python 3"
    },
    "language_info": {
      "name": "python"
    }
  },
  "cells": [
    {
      "cell_type": "markdown",
      "source": [
        "### Soal 5: Kombinasi Logika dan Kreativitas\n",
        "**Soal**: Buatlah permainan sederhana menggunakan Python, di mana komputer akan memilih sebuah angka secara acak antara 1 hingga 100, dan pengguna harus menebak angka tersebut. Setiap tebakan yang salah akan memberikan petunjuk apakah angka yang ditebak lebih besar atau lebih kecil dari angka sebenarnya. Batasi jumlah percobaan menjadi 5 kali. Setelah permainan selesai, tampilkan apakah pemain menang atau kalah.\n",
        "\n",
        "**Tujuan**: Menguji logika, kontrol alur program, penggunaan modul `random`, serta kreativitas dalam membangun program interaktif.\n",
        "\n",
        "---\n"
      ],
      "metadata": {
        "id": "OxYPsGcB_Ijs"
      }
    },
    {
      "cell_type": "code",
      "source": [
        "import random\n",
        "\n",
        "def tebak_angka():\n",
        "    # Komputer memilih angka acak antara 1 hingga 100\n",
        "    angka_rahasia = random.randint(1, 100)\n",
        "    percobaan = 5  # Batas percobaan\n",
        "    print(\"Selamat datang di permainan Tebak Angka!\")\n",
        "    print(\"Saya telah memilih sebuah angka antara 1 hingga 100.\")\n",
        "    print(f\"Anda memiliki {percobaan} percobaan untuk menebaknya.\")\n",
        "\n",
        "    for i in range(percobaan):\n",
        "        try:\n",
        "            tebakan = int(input(f\"Tebakan Anda ({i + 1}/{percobaan}): \"))\n",
        "\n",
        "            if tebakan < 1 or tebakan > 100:\n",
        "                print(\"Tebakan harus antara 1 dan 100. Silakan coba lagi.\")\n",
        "                continue\n",
        "\n",
        "            if tebakan < angka_rahasia:\n",
        "                print(\"Tebakan Anda terlalu kecil.\")\n",
        "            elif tebakan > angka_rahasia:\n",
        "                print(\"Tebakan Anda terlalu besar.\")\n",
        "            else:\n",
        "                print(f\"Selamat! Anda berhasil menebak angka {angka_rahasia} dengan {i + 1} percobaan.\")\n",
        "                break\n",
        "        except ValueError:\n",
        "            print(\"Input tidak valid. Silakan masukkan angka.\")\n",
        "\n",
        "    else:  # Jika loop selesai tanpa break\n",
        "        print(f\"Maaf, Anda telah kehabisan percobaan. Angka yang benar adalah {angka_rahasia}.\")\n",
        "\n",
        "# Memulai permainan\n",
        "tebak_angka()"
      ],
      "metadata": {
        "colab": {
          "base_uri": "https://localhost:8080/"
        },
        "id": "dQUe9755_KWC",
        "outputId": "70ca208a-b371-433a-9f14-eba4620188f5"
      },
      "execution_count": 1,
      "outputs": [
        {
          "output_type": "stream",
          "name": "stdout",
          "text": [
            "Selamat datang di permainan Tebak Angka!\n",
            "Saya telah memilih sebuah angka antara 1 hingga 100.\n",
            "Anda memiliki 5 percobaan untuk menebaknya.\n",
            "Tebakan Anda (1/5): 7\n",
            "Tebakan Anda terlalu kecil.\n",
            "Tebakan Anda (2/5): 50\n",
            "Tebakan Anda terlalu kecil.\n",
            "Tebakan Anda (3/5): 70\n",
            "Tebakan Anda terlalu kecil.\n",
            "Tebakan Anda (4/5): 90\n",
            "Selamat! Anda berhasil menebak angka 90 dengan 4 percobaan.\n"
          ]
        }
      ]
    },
    {
      "cell_type": "code",
      "source": [],
      "metadata": {
        "id": "Fl694tqz_ve0"
      },
      "execution_count": null,
      "outputs": []
    }
  ]
}